{
 "cells": [
  {
   "cell_type": "code",
   "execution_count": null,
   "id": "43052dc0-1fa4-4e1b-bb66-c01e710e0bbc",
   "metadata": {},
   "outputs": [],
   "source": [
    "import sqlite3\n",
    "import pandas as pd\n",
    "import matplotlib.pyplot as plt\n",
    "import seaborn as sns\n",
    "from wordcloud import WordCloud"
   ]
  },
  {
   "cell_type": "code",
   "execution_count": null,
   "id": "a2b2bde1-7bbd-4974-b10c-4d71ad4c0eba",
   "metadata": {},
   "outputs": [],
   "source": [
    "conn = sqlite3.connect('../data/database/linkedin_jobs.db')"
   ]
  },
  {
   "cell_type": "code",
   "execution_count": null,
   "id": "ac769647-bf28-4691-9e9e-f30749252e8f",
   "metadata": {},
   "outputs": [],
   "source": [
    "query = \"SELECT * FROM job_postings\"\n",
    "df = pd.read_sql_query(query, conn)\n",
    "conn.close()"
   ]
  },
  {
   "cell_type": "code",
   "execution_count": null,
   "id": "af00045a-db6f-4b83-8a36-68702f949e0e",
   "metadata": {},
   "outputs": [],
   "source": [
    "print(\"Data Info:\")\n",
    "df.info()"
   ]
  },
  {
   "cell_type": "code",
   "execution_count": null,
   "id": "96c614f9-af4e-42fc-9f37-f9f07a4cb3e9",
   "metadata": {},
   "outputs": [],
   "source": [
    "print(\"Missing Values in Each Column:\")\n",
    "df.isnull().sum()"
   ]
  },
  {
   "cell_type": "code",
   "execution_count": null,
   "id": "758925a8-8b39-4ada-8edd-a3310dc37dc9",
   "metadata": {},
   "outputs": [],
   "source": [
    "df.fillna('Null', inplace=True)"
   ]
  },
  {
   "cell_type": "code",
   "execution_count": null,
   "id": "d7ee84ba-ef26-4a53-81e5-b444d0f51e52",
   "metadata": {},
   "outputs": [],
   "source": [
    "df_filtered = df[df['location'] != 'United States']"
   ]
  },
  {
   "cell_type": "code",
   "execution_count": null,
   "id": "24e3fcf4-c1d9-4255-ac45-97c3d9545dd3",
   "metadata": {},
   "outputs": [],
   "source": [
    "job_by_location = df_filtered['location'].value_counts().head(10)\n",
    "plt.figure(figsize=(10, 6))\n",
    "sns.barplot(x=job_by_location.values, y=job_by_location.index)\n",
    "plt.title('Top 10 Job Locations')\n",
    "plt.xlabel('Number of Jobs')\n",
    "plt.ylabel('Location')\n",
    "plt.show()"
   ]
  },
  {
   "cell_type": "code",
   "execution_count": null,
   "id": "71483fb4-33cf-4400-8277-8d50ca628dc8",
   "metadata": {},
   "outputs": [],
   "source": [
    "top_companies = df_filtered['company'].value_counts().head(10)\n",
    "plt.figure(figsize=(10, 6))\n",
    "sns.barplot(x=top_companies.values, y=top_companies.index)\n",
    "plt.title('Top 10 Hiring Companies')\n",
    "plt.xlabel('Number of Jobs')\n",
    "plt.ylabel('Company')\n",
    "plt.show()"
   ]
  },
  {
   "cell_type": "code",
   "execution_count": null,
   "id": "07b8e4be-a85a-4432-8665-30a7c95f3cc1",
   "metadata": {},
   "outputs": [],
   "source": [
    "locations_text = ' '.join(df_filtered['location'].dropna().astype(str))\n",
    "wordcloud_locations = WordCloud(width=800, height=400, background_color='white').generate(locations_text)"
   ]
  },
  {
   "cell_type": "code",
   "execution_count": null,
   "id": "4528d1eb-0f36-441f-bce1-53b1b9c01af4",
   "metadata": {},
   "outputs": [],
   "source": [
    "plt.figure(figsize=(10, 6))\n",
    "plt.imshow(wordcloud_locations, interpolation='bilinear')\n",
    "plt.axis('off')\n",
    "plt.title('Word Cloud for Job Locations')\n",
    "plt.show()"
   ]
  },
  {
   "cell_type": "code",
   "execution_count": null,
   "id": "6513fe38-ba4c-43e0-ae15-cc991733407d",
   "metadata": {},
   "outputs": [],
   "source": [
    "companies_text = ' '.join(df_filtered['company'].dropna().astype(str))\n",
    "wordcloud_companies = WordCloud(width=800, height=400, background_color='white').generate(companies_text)"
   ]
  },
  {
   "cell_type": "code",
   "execution_count": null,
   "id": "0f45a232-a4b6-41fb-8e3f-cf4a0e387a31",
   "metadata": {},
   "outputs": [],
   "source": [
    "plt.figure(figsize=(10, 6))\n",
    "plt.imshow(wordcloud_companies, interpolation='bilinear')\n",
    "plt.axis('off')\n",
    "plt.title('Word Cloud for Hiring Companies')\n",
    "plt.show()"
   ]
  },
  {
   "cell_type": "code",
   "execution_count": null,
   "id": "252d68b5-7af6-479b-9dd2-bbac4b19a6b2",
   "metadata": {},
   "outputs": [],
   "source": [
    "titles_text = ' '.join(df_filtered['job_title'].dropna().astype(str))  # Combine all job titles into a single string\n",
    "wordcloud_titles = WordCloud(width=800, height=400, background_color='white', collocations=False).generate(titles_text)"
   ]
  },
  {
   "cell_type": "code",
   "execution_count": null,
   "id": "17bb9a52-58d4-4c9f-8fd9-6c7ae2249b37",
   "metadata": {},
   "outputs": [],
   "source": [
    "plt.figure(figsize=(10, 6))\n",
    "plt.imshow(wordcloud_titles, interpolation='bilinear')\n",
    "plt.axis('off')\n",
    "plt.title('Word Cloud for Job Titles')\n",
    "plt.show()"
   ]
  }
 ],
 "metadata": {
  "kernelspec": {
   "display_name": "Python 3 (ipykernel)",
   "language": "python",
   "name": "python3"
  },
  "language_info": {
   "codemirror_mode": {
    "name": "ipython",
    "version": 3
   },
   "file_extension": ".py",
   "mimetype": "text/x-python",
   "name": "python",
   "nbconvert_exporter": "python",
   "pygments_lexer": "ipython3",
   "version": "3.12.7"
  }
 },
 "nbformat": 4,
 "nbformat_minor": 5
}
