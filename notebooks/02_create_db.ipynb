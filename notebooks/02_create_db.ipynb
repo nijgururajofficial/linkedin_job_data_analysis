{
 "cells": [
  {
   "cell_type": "code",
   "execution_count": null,
   "id": "54fe8212-7f73-4166-a22a-783252096067",
   "metadata": {},
   "outputs": [],
   "source": [
    "import sqlite3\n",
    "import pandas as pd"
   ]
  },
  {
   "cell_type": "code",
   "execution_count": null,
   "id": "6fd36438-ed03-430a-aed2-2f75b5dc0b97",
   "metadata": {},
   "outputs": [],
   "source": [
    "df = pd.read_csv('../data/raw/linkedin_job_postings.csv')  "
   ]
  },
  {
   "cell_type": "code",
   "execution_count": null,
   "id": "905ed12a-5c83-47c9-8ccc-d07427a1ac55",
   "metadata": {},
   "outputs": [],
   "source": [
    "conn = sqlite3.connect('../data/database/linkedin_jobs.db')\n",
    "cursor = conn.cursor()"
   ]
  },
  {
   "cell_type": "code",
   "execution_count": null,
   "id": "3ea3198d-e653-496a-a731-9aabc5707ac7",
   "metadata": {},
   "outputs": [],
   "source": [
    "cursor.execute('''\n",
    "CREATE TABLE IF NOT EXISTS job_postings (\n",
    "    id INTEGER PRIMARY KEY AUTOINCREMENT,\n",
    "    job_title TEXT,\n",
    "    company TEXT,\n",
    "    location TEXT\n",
    ")\n",
    "''')"
   ]
  },
  {
   "cell_type": "code",
   "execution_count": null,
   "id": "6a0a0e30-80ec-4b67-a3a0-c5edc3684d6f",
   "metadata": {},
   "outputs": [],
   "source": [
    "for _, row in df.iterrows():\n",
    "    cursor.execute('''\n",
    "        INSERT INTO job_postings (job_title, company, location)\n",
    "        VALUES (?, ?, ?)\n",
    "    ''', (row['Job Title'], row['Company'], row['Location']))"
   ]
  },
  {
   "cell_type": "code",
   "execution_count": null,
   "id": "03429354-1b9f-4e8d-b468-b0056e093620",
   "metadata": {},
   "outputs": [],
   "source": [
    "conn.commit()\n",
    "conn.close()\n",
    "\n",
    "print(\"Data successfully stored in SQLite database.\")"
   ]
  }
 ],
 "metadata": {
  "kernelspec": {
   "display_name": "Python 3 (ipykernel)",
   "language": "python",
   "name": "python3"
  },
  "language_info": {
   "codemirror_mode": {
    "name": "ipython",
    "version": 3
   },
   "file_extension": ".py",
   "mimetype": "text/x-python",
   "name": "python",
   "nbconvert_exporter": "python",
   "pygments_lexer": "ipython3",
   "version": "3.12.7"
  }
 },
 "nbformat": 4,
 "nbformat_minor": 5
}
